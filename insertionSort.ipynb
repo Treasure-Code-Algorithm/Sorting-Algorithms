{
 "cells": [
  {
   "cell_type": "code",
   "execution_count": 9,
   "metadata": {},
   "outputs": [
    {
     "name": "stdout",
     "output_type": "stream",
     "text": [
      "Sorted array is\n",
      "2\n",
      "13\n",
      "13\n",
      "2\n",
      "8\n"
     ]
    }
   ],
   "source": [
    "#implementation of Insertion Sort \n",
    "A = [9, 16, 13, 2, 8] \n",
    "insertionSort(A) \n",
    "def insertionSort(A): \n",
    "  \n",
    "    \n",
    "    for i in range(1, len(A)): \n",
    "  \n",
    "        key = A[i] \n",
    "        j = i-1\n",
    "        while j >=0 and key < A[j] : \n",
    "                arr[j+1] = A[j] \n",
    "                j -= 1\n",
    "        A[j+1] = key \n",
    "  \n",
    "\n",
    "print (\"Sorted array is\") \n",
    "for i in range(len(A)): \n",
    "    print (\"%d\" %A[i]) "
   ]
  }
 ],
 "metadata": {
  "kernelspec": {
   "display_name": "Python 3",
   "language": "python",
   "name": "python3"
  },
  "language_info": {
   "codemirror_mode": {
    "name": "ipython",
    "version": 3
   },
   "file_extension": ".py",
   "mimetype": "text/x-python",
   "name": "python",
   "nbconvert_exporter": "python",
   "pygments_lexer": "ipython3",
   "version": "3.7.6"
  }
 },
 "nbformat": 4,
 "nbformat_minor": 4
}
