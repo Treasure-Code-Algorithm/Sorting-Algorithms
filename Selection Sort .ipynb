{
 "cells": [
  {
   "cell_type": "code",
   "execution_count": 6,
   "metadata": {},
   "outputs": [
    {
     "name": "stdout",
     "output_type": "stream",
     "text": [
      "[14, 32, 56, 65, 89, 100]\n"
     ]
    }
   ],
   "source": [
    "\n",
    "# Python program for implementation of Selection Sort \n",
    "Array =[100,89,65,32,14,56]\n",
    "for i in range(len(Array)):\n",
    "    min = i\n",
    "    for j in range (i+1 ,len(Array)):\n",
    "        if Array[min] > Array[j]:\n",
    "            min = j\n",
    "               \n",
    "# Swaping the element  \n",
    "\n",
    "    Array[i], Array[min] = Array[min], Array[i]  \n",
    "    \n",
    "print(Array)\n"
   ]
  }
 ],
 "metadata": {
  "kernelspec": {
   "display_name": "Python 3",
   "language": "python",
   "name": "python3"
  },
  "language_info": {
   "codemirror_mode": {
    "name": "ipython",
    "version": 3
   },
   "file_extension": ".py",
   "mimetype": "text/x-python",
   "name": "python",
   "nbconvert_exporter": "python",
   "pygments_lexer": "ipython3",
   "version": "3.7.7"
  }
 },
 "nbformat": 4,
 "nbformat_minor": 4
}
