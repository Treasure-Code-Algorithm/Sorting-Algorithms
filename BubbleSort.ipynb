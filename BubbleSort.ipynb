{
 "cells": [
  {
   "cell_type": "code",
   "execution_count": 34,
   "metadata": {},
   "outputs": [
    {
     "name": "stdout",
     "output_type": "stream",
     "text": [
      "[9, 11, 12, 15, 25, 34, 90, 100]\n"
     ]
    }
   ],
   "source": [
    "Array = [100,9,34,15,12,25,11,90]\n",
    "def bubbleSort(Array): \n",
    "    n = len(Array) \n",
    "  \n",
    "    # Traverse \n",
    "    for i in range(n): \n",
    "  \n",
    "        # Last i elements are already in place \n",
    "        for j in range(0, n-i-1): \n",
    "  \n",
    "            # traverse the array from 0 to n-i-1 \n",
    "            # Swap if the element found is greater than the next element \n",
    "            if Array[j] > Array[j+1] : \n",
    "                Array[j], Array[j+1] = Array[j+1], Array[j] \n",
    "            \n",
    "bubbleSort(Array) \n",
    "print(Array)"
   ]
  }
 ],
 "metadata": {
  "kernelspec": {
   "display_name": "Python 3",
   "language": "python",
   "name": "python3"
  },
  "language_info": {
   "codemirror_mode": {
    "name": "ipython",
    "version": 3
   },
   "file_extension": ".py",
   "mimetype": "text/x-python",
   "name": "python",
   "nbconvert_exporter": "python",
   "pygments_lexer": "ipython3",
   "version": "3.7.7"
  }
 },
 "nbformat": 4,
 "nbformat_minor": 4
}
